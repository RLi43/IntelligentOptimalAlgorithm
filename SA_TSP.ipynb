{
 "cells": [
  {
   "cell_type": "code",
   "execution_count": 4,
   "metadata": {},
   "outputs": [],
   "source": [
    "import matplotlib.pyplot as plt\n",
    "import numpy as np\n",
    "import time\n",
    "CITY_POSITIONS=[[0.62438291 ,0.82178505],\n",
    " [0.04169322 ,0.87324915],\n",
    " [0.41212068 ,0.75284606],\n",
    " [0.36344985 ,0.01829036],\n",
    " [0.68850325 ,0.54933196],\n",
    " [0.87354669 ,0.64206707],\n",
    " [0.22960069 ,0.73200151],\n",
    " [0.18292416 ,0.72679727],\n",
    " [0.29964816 ,0.65428754],\n",
    " [0.17463048 ,0.93999983],\n",
    " [0.47599872 ,0.79141143],\n",
    " [0.39267136 ,0.43828946],\n",
    " [0.75460859 ,0.40501416],\n",
    " [0.27784902 ,0.92334604],\n",
    " [0.83258482 ,0.39183078],\n",
    " [0.63282944 ,0.14352982],\n",
    " [0.72778758 ,0.79120373],\n",
    " [0.83078051 ,0.04707529],\n",
    " [0.74970826 ,0.45880596],\n",
    " [0.37795989 ,0.2785738 ]]\n",
    "# CITY_POSITIONS=np.array(CITY_POSITIONS)"
   ]
  },
  {
   "cell_type": "code",
   "execution_count": 11,
   "metadata": {},
   "outputs": [],
   "source": [
    "class TSP():\n",
    "    def __init__(self, cn = 10, ps = None):\n",
    "        self.city_num = cn\n",
    "        if ps == None:\n",
    "            self.positions = np.random.rand(self.city_num, 2)\n",
    "#             self.positions = np.array(CITY_POSITIONS)\n",
    "        else:\n",
    "            self.positions = np.array(ps)\n",
    "        \n",
    "    def rand_new(self):\n",
    "        return np.random.permutation(self.city_num)\n",
    "\n",
    "    def getv(self,o):\n",
    "        theor = self.positions[o]\n",
    "        dis = 0\n",
    "        for i in range(self.city_num-1):\n",
    "            dis += np.sqrt((theor[i][0] - theor[i+1][0])**2 + (theor[i][1] - theor[i+1][1])**2)\n",
    "        dis += np.sqrt((theor[0][0] - theor[-1][0])**2 + (theor[0][1] - theor[-1][1])**2)\n",
    "        return dis \n",
    "    \n",
    "    def draw(self, o, v):\n",
    "        x=self.positions[:, 0].T\n",
    "        y=self.positions[:, 1].T\n",
    "        for i in range(len(x)):\n",
    "            plt.annotate(i+1,xy = (x[i], y[i]), xytext = (x[i]+0.01, y[i]+0.01))\n",
    "        theor = self.positions[o]\n",
    "        plt.plot(theor[:,0],theor[:,1],'or')\n",
    "        nt = np.insert(theor,len(theor),theor[0,:],axis = 0)\n",
    "        plt.plot(nt[:,0],nt[:,1])\n",
    "        for i in range(len(x)):\n",
    "            plt.annotate(i+1,xy = (x[i], y[i]), xytext = (x[i]+0.01, y[i]+0.01))\n",
    "        plt.text(-0.05, -0.05, \"Total distance=%.2f\" % self.getv(o), fontdict={'size': 20, 'color': 'red'})\n",
    "        plt.xlim((-0.1, 1.1))\n",
    "        plt.ylim((-0.1, 1.1))\n",
    "        plt.gca().set_aspect('equal', adjustable='box')\n",
    "        plt.pause(0.01)\n",
    "        \n",
    "        \n",
    "    \n",
    "            \n",
    "\n",
    "\n",
    "\n",
    "class SA():\n",
    "    def __init__(self, prob_v, prob_p, prob_s=None, T=10, T_end=1e-5, L=200, r=0.98):\n",
    "        self.T = T              \n",
    "        self.T_end = T_end    \n",
    "        self.L = L              \n",
    "        self.r = r    \n",
    "        \n",
    "        self.f = prob_v  # function\n",
    "        self.sample = prob_p  # problem\n",
    "\n",
    "        self.x = self.sample()\n",
    "        self.v = self.f(self.x)\n",
    "\n",
    "        self.iter_num = 0\n",
    "        # print\n",
    "        self.vm = []\n",
    "        self.tm = []\n",
    "        if prob_s == None:\n",
    "            self.drawX = print\n",
    "        else:\n",
    "            self.drawX = prob_s\n",
    "        \n",
    "        \n",
    "#         self.o=None\n",
    "        \n",
    "    # def new_sample(self):\n",
    "    #     return np.random.rand()*(self.lim[1] - self.lim[0])\n",
    "    \n",
    "    \"\"\"accept new\"\"\"\n",
    "    def metropolis(self, n):\n",
    "        nv = self.f(n)\n",
    "        dv = nv - self.v \n",
    "        if dv < 0 or np.exp(-dv/self.T) > np.random.rand():\n",
    "            self.x = n\n",
    "            self.v = nv\n",
    "\n",
    "        \n",
    "    def solve(self):\n",
    "        while self.T > self.T_end:\n",
    "            for i in range(self.L):\n",
    "                n = self.sample()\n",
    "                self.metropolis(n)\n",
    "                self.vm.append(self.v)\n",
    "            self.T *= self.r\n",
    "            self.iter_num += 1\n",
    "            self.tm.append(self.T)\n",
    "        best_idx = np.argmin(self.vm)\n",
    "        self.v=self.vm[best_idx]\n",
    "        self.o=self\n",
    "        return self.vm[best_idx]\n",
    "    \n",
    "    def drawValueChange(self):\n",
    "        plt.figure(figsize=(10,10))\n",
    "        plt.subplot(1,2,1)\n",
    "        self.drawX(self.x, self.v)\n",
    "        print(\"minimal value: \",self.v)\n",
    "        plt.subplot(1,2,2)\n",
    "        plt.plot(list(range(self.iter_num*self.L)),self.vm)\n",
    "        #plt.plot(np.linspace(0,self.iter_num*self.L,self.iter_num),self.tm,'r')\n",
    "        plt.show()"
   ]
  },
  {
   "cell_type": "code",
   "execution_count": 12,
   "metadata": {},
   "outputs": [
    {
     "name": "stdout",
     "output_type": "stream",
     "text": [
      "5.634342487363872\n"
     ]
    },
    {
     "data": {
      "image/png": "[encoded data removed]",
      "text/plain": [
       "<Figure size 720x720 with 1 Axes>"
      ]
     },
     "metadata": {
      "needs_background": "light"
     },
     "output_type": "display_data"
    },
    {
     "name": "stdout",
     "output_type": "stream",
     "text": [
      "minimal value:  6.180867248517329\n"
     ]
    },
    {
     "data": {
      "image/png": "[encoded data removed]",
      "text/plain": [
       "<Figure size 432x288 with 1 Axes>"
      ]
     },
     "metadata": {
      "needs_background": "light"
     },
     "output_type": "display_data"
    }
   ],
   "source": [
    "tsp = TSP(20,CITY_POSITIONS)\n",
    "sa = SA(tsp.getv, tsp.rand_new, tsp.draw)\n",
    "sa.solve()\n",
    "print(sa.solve())\n",
    "sa.drawValueChange()"
   ]
  },
  {
   "cell_type": "code",
   "execution_count": null,
   "metadata": {},
   "outputs": [],
   "source": [
    "dis_all=[]\n",
    "time_all=[]\n",
    "for i in range(20):\n",
    "\n",
    "#求均值\n",
    "dis_mean = np.mean(dis_all)\n",
    "#求方差\n",
    "dis_var = np.var(dis_all)\n",
    "#求极值\n",
    "best_idx = np.argmin(dis_all)\n",
    "worst_idx = np.argmax(dis_all)\n",
    "print('---------距离--------')\n",
    "print(\"平均值为：%f\" % dis_mean)\n",
    "print(\"方差为：%f\" % dis_var)\n",
    "print(\"最优值为:第%d次:%f\"% (best_idx+1, dis_all[best_idx]))\n",
    "print(\"最差值为:第%d次:%f\"% (worst_idx+1, dis_all[worst_idx]))\n",
    "time_mean = np.mean(time_all)\n",
    "time_var = np.var(time_all)\n",
    "best_id = np.argmin(time_all)\n",
    "worst_id = np.argmax(time_all)\n",
    "print('---------时间--------')\n",
    "print(\"平均值为：%f\" % time_mean)\n",
    "print(\"方差为：%f\" % time_var)\n",
    "print(\"最优值为:第%d次:%f\"% (best_id+1, time_all[best_id]))\n",
    "print(\"最差值为:第%d次:%f\"% (worst_id+1, time_all[worst_id]))"
   ]
  },
  {
   "cell_type": "code",
   "execution_count": 9,
   "metadata": {},
   "outputs": [],
   "source": [
    "dis = 0\n",
    "theor=CITY_POSITIONS\n",
    "for i in range(20-1):\n",
    "    dis += np.sqrt((theor[i][0] - theor[i+1][0])**2 + (theor[i][1] - theor[i+1][1])**2)\n",
    "dis += np.sqrt((theor[0][0] - theor[-1][0])**2 + (theor[0][1] - theor[-1][1])**2)"
   ]
  },
  {
   "cell_type": "code",
   "execution_count": 10,
   "metadata": {},
   "outputs": [
    {
     "data": {
      "text/plain": [
       "9.375251065462967"
      ]
     },
     "execution_count": 10,
     "metadata": {},
     "output_type": "execute_result"
    }
   ],
   "source": [
    "dis"
   ]
  },
  {
   "cell_type": "code",
   "execution_count": null,
   "metadata": {},
   "outputs": [],
   "source": []
  }
 ],
 "metadata": {
  "kernelspec": {
   "display_name": "Python 3",
   "language": "python",
   "name": "python3"
  },
  "language_info": {
   "codemirror_mode": {
    "name": "ipython",
    "version": 3
   },
   "file_extension": ".py",
   "mimetype": "text/x-python",
   "name": "python",
   "nbconvert_exporter": "python",
   "pygments_lexer": "ipython3",
   "version": "3.6.2"
  }
 },
 "nbformat": 4,
 "nbformat_minor": 4
}
